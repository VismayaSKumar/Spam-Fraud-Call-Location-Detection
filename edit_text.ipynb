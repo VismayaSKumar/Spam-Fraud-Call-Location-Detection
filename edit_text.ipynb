{
 "cells": [
  {
   "cell_type": "markdown",
   "metadata": {},
   "source": [
    "## Data Collection"
   ]
  },
  {
   "cell_type": "markdown",
   "metadata": {},
   "source": [
    "Importing necessary dependencies\n",
    "\n"
   ]
  },
  {
   "cell_type": "code",
   "execution_count": null,
   "metadata": {},
   "outputs": [],
   "source": [
    "import numpy as np\n",
    "import pandas as pd"
   ]
  },
  {
   "cell_type": "code",
   "execution_count": 3,
   "metadata": {},
   "outputs": [
    {
     "data": {
      "text/html": [
       "<div>\n",
       "<style scoped>\n",
       "    .dataframe tbody tr th:only-of-type {\n",
       "        vertical-align: middle;\n",
       "    }\n",
       "\n",
       "    .dataframe tbody tr th {\n",
       "        vertical-align: top;\n",
       "    }\n",
       "\n",
       "    .dataframe thead th {\n",
       "        text-align: right;\n",
       "    }\n",
       "</style>\n",
       "<table border=\"1\" class=\"dataframe\">\n",
       "  <thead>\n",
       "    <tr style=\"text-align: right;\">\n",
       "      <th></th>\n",
       "      <th>Unnamed: 0</th>\n",
       "      <th>Caller Number</th>\n",
       "      <th>Call Time</th>\n",
       "      <th>Call Type</th>\n",
       "      <th>Conversation</th>\n",
       "      <th>Sentiment Analysis</th>\n",
       "    </tr>\n",
       "  </thead>\n",
       "  <tbody>\n",
       "    <tr>\n",
       "      <th>0</th>\n",
       "      <td>0</td>\n",
       "      <td>+1-602-484-3039</td>\n",
       "      <td>05:06:43</td>\n",
       "      <td>normal</td>\n",
       "      <td>What are you doing?</td>\n",
       "      <td>Neutral</td>\n",
       "    </tr>\n",
       "    <tr>\n",
       "      <th>1</th>\n",
       "      <td>1</td>\n",
       "      <td>+1-703-942-8189</td>\n",
       "      <td>15:08:08</td>\n",
       "      <td>Scam</td>\n",
       "      <td>YOU HAVE WON! As a valued Vodafone customer ou...</td>\n",
       "      <td>Positive</td>\n",
       "    </tr>\n",
       "    <tr>\n",
       "      <th>2</th>\n",
       "      <td>2</td>\n",
       "      <td>+1-901-383-7693</td>\n",
       "      <td>03:36:17</td>\n",
       "      <td>normal</td>\n",
       "      <td>Ok, Let me see.</td>\n",
       "      <td>Positive</td>\n",
       "    </tr>\n",
       "    <tr>\n",
       "      <th>3</th>\n",
       "      <td>3</td>\n",
       "      <td>+1-602-747-4851</td>\n",
       "      <td>10:12:14</td>\n",
       "      <td>normal</td>\n",
       "      <td>He will, you guys close?</td>\n",
       "      <td>Neutral</td>\n",
       "    </tr>\n",
       "    <tr>\n",
       "      <th>4</th>\n",
       "      <td>4</td>\n",
       "      <td>+1-214-359-8191</td>\n",
       "      <td>09:42:00</td>\n",
       "      <td>normal</td>\n",
       "      <td>Oh oh... Den muz change plan liao... Go back h...</td>\n",
       "      <td>Neutral</td>\n",
       "    </tr>\n",
       "  </tbody>\n",
       "</table>\n",
       "</div>"
      ],
      "text/plain": [
       "   Unnamed: 0    Caller Number Call Time Call Type  \\\n",
       "0           0  +1-602-484-3039  05:06:43    normal   \n",
       "1           1  +1-703-942-8189  15:08:08      Scam   \n",
       "2           2  +1-901-383-7693  03:36:17    normal   \n",
       "3           3  +1-602-747-4851  10:12:14    normal   \n",
       "4           4  +1-214-359-8191  09:42:00    normal   \n",
       "\n",
       "                                        Conversation Sentiment Analysis  \n",
       "0                                What are you doing?            Neutral  \n",
       "1  YOU HAVE WON! As a valued Vodafone customer ou...           Positive  \n",
       "2                                    Ok, Let me see.           Positive  \n",
       "3                           He will, you guys close?            Neutral  \n",
       "4  Oh oh... Den muz change plan liao... Go back h...            Neutral  "
      ]
     },
     "execution_count": 3,
     "metadata": {},
     "output_type": "execute_result"
    }
   ],
   "source": [
    "fraud_df = pd.read_csv(\"./Modified_Fraud_Call_Dataset.csv\")\n",
    "fraud_df.head()"
   ]
  },
  {
   "cell_type": "markdown",
   "metadata": {},
   "source": [
    "## Data Preprocessing - 1"
   ]
  },
  {
   "cell_type": "code",
   "execution_count": 4,
   "metadata": {},
   "outputs": [
    {
     "name": "stdout",
     "output_type": "stream",
     "text": [
      "<class 'pandas.core.frame.DataFrame'>\n",
      "RangeIndex: 11854 entries, 0 to 11853\n",
      "Data columns (total 6 columns):\n",
      " #   Column              Non-Null Count  Dtype \n",
      "---  ------              --------------  ----- \n",
      " 0   Unnamed: 0          11854 non-null  int64 \n",
      " 1   Caller Number       11854 non-null  object\n",
      " 2   Call Time           11854 non-null  object\n",
      " 3   Call Type           11854 non-null  object\n",
      " 4   Conversation        11854 non-null  object\n",
      " 5   Sentiment Analysis  11854 non-null  object\n",
      "dtypes: int64(1), object(5)\n",
      "memory usage: 555.8+ KB\n"
     ]
    }
   ],
   "source": [
    "fraud_df.info()"
   ]
  },
  {
   "cell_type": "markdown",
   "metadata": {},
   "source": [
    "Replacing Null values with appropriate substitutes"
   ]
  },
  {
   "cell_type": "code",
   "execution_count": 5,
   "metadata": {},
   "outputs": [
    {
     "data": {
      "text/plain": [
       "np.False_"
      ]
     },
     "execution_count": 5,
     "metadata": {},
     "output_type": "execute_result"
    }
   ],
   "source": [
    "fraud_df.isnull().values.any()   #Output implies that there exist no null values in the dataset"
   ]
  },
  {
   "cell_type": "code",
   "execution_count": 6,
   "metadata": {},
   "outputs": [
    {
     "data": {
      "text/html": [
       "<div>\n",
       "<style scoped>\n",
       "    .dataframe tbody tr th:only-of-type {\n",
       "        vertical-align: middle;\n",
       "    }\n",
       "\n",
       "    .dataframe tbody tr th {\n",
       "        vertical-align: top;\n",
       "    }\n",
       "\n",
       "    .dataframe thead th {\n",
       "        text-align: right;\n",
       "    }\n",
       "</style>\n",
       "<table border=\"1\" class=\"dataframe\">\n",
       "  <thead>\n",
       "    <tr style=\"text-align: right;\">\n",
       "      <th></th>\n",
       "      <th>Unnamed: 0</th>\n",
       "      <th>Caller Number</th>\n",
       "      <th>Call Time</th>\n",
       "      <th>Call Type</th>\n",
       "      <th>Conversation</th>\n",
       "      <th>Sentiment Analysis</th>\n",
       "    </tr>\n",
       "  </thead>\n",
       "  <tbody>\n",
       "    <tr>\n",
       "      <th>0</th>\n",
       "      <td>0</td>\n",
       "      <td>+1-602-484-3039</td>\n",
       "      <td>05:06:43</td>\n",
       "      <td>normal</td>\n",
       "      <td>What are you doing?</td>\n",
       "      <td>Neutral</td>\n",
       "    </tr>\n",
       "    <tr>\n",
       "      <th>1</th>\n",
       "      <td>1</td>\n",
       "      <td>+1-703-942-8189</td>\n",
       "      <td>15:08:08</td>\n",
       "      <td>Scam</td>\n",
       "      <td>YOU HAVE WON! As a valued Vodafone customer ou...</td>\n",
       "      <td>Positive</td>\n",
       "    </tr>\n",
       "    <tr>\n",
       "      <th>2</th>\n",
       "      <td>2</td>\n",
       "      <td>+1-901-383-7693</td>\n",
       "      <td>03:36:17</td>\n",
       "      <td>normal</td>\n",
       "      <td>Ok, Let me see.</td>\n",
       "      <td>Positive</td>\n",
       "    </tr>\n",
       "    <tr>\n",
       "      <th>3</th>\n",
       "      <td>3</td>\n",
       "      <td>+1-602-747-4851</td>\n",
       "      <td>10:12:14</td>\n",
       "      <td>normal</td>\n",
       "      <td>He will, you guys close?</td>\n",
       "      <td>Neutral</td>\n",
       "    </tr>\n",
       "    <tr>\n",
       "      <th>4</th>\n",
       "      <td>4</td>\n",
       "      <td>+1-214-359-8191</td>\n",
       "      <td>09:42:00</td>\n",
       "      <td>normal</td>\n",
       "      <td>Oh oh... Den muz change plan liao... Go back h...</td>\n",
       "      <td>Neutral</td>\n",
       "    </tr>\n",
       "    <tr>\n",
       "      <th>...</th>\n",
       "      <td>...</td>\n",
       "      <td>...</td>\n",
       "      <td>...</td>\n",
       "      <td>...</td>\n",
       "      <td>...</td>\n",
       "      <td>...</td>\n",
       "    </tr>\n",
       "    <tr>\n",
       "      <th>11849</th>\n",
       "      <td>11849</td>\n",
       "      <td>+1-303-953-1271</td>\n",
       "      <td>12:25:05</td>\n",
       "      <td>normal</td>\n",
       "      <td>Looks like you found something to do other tha...</td>\n",
       "      <td>Positive</td>\n",
       "    </tr>\n",
       "    <tr>\n",
       "      <th>11850</th>\n",
       "      <td>11850</td>\n",
       "      <td>+1-305-819-5914</td>\n",
       "      <td>00:05:14</td>\n",
       "      <td>normal</td>\n",
       "      <td>Ok lor wat time ü finish?</td>\n",
       "      <td>Positive</td>\n",
       "    </tr>\n",
       "    <tr>\n",
       "      <th>11851</th>\n",
       "      <td>11851</td>\n",
       "      <td>+1-212-271-6786</td>\n",
       "      <td>16:37:00</td>\n",
       "      <td>normal</td>\n",
       "      <td>Aight will do, thanks again for comin out</td>\n",
       "      <td>Positive</td>\n",
       "    </tr>\n",
       "    <tr>\n",
       "      <th>11852</th>\n",
       "      <td>11852</td>\n",
       "      <td>+1-512-678-5368</td>\n",
       "      <td>14:12:23</td>\n",
       "      <td>normal</td>\n",
       "      <td>Dun b sad.. It's over.. Dun thk abt it already...</td>\n",
       "      <td>Negative</td>\n",
       "    </tr>\n",
       "    <tr>\n",
       "      <th>11853</th>\n",
       "      <td>11853</td>\n",
       "      <td>+1-808-946-5691</td>\n",
       "      <td>10:50:35</td>\n",
       "      <td>normal</td>\n",
       "      <td>Hi friend, which is best way to avoid missunde...</td>\n",
       "      <td>Positive</td>\n",
       "    </tr>\n",
       "  </tbody>\n",
       "</table>\n",
       "<p>11854 rows × 6 columns</p>\n",
       "</div>"
      ],
      "text/plain": [
       "       Unnamed: 0    Caller Number Call Time Call Type  \\\n",
       "0               0  +1-602-484-3039  05:06:43    normal   \n",
       "1               1  +1-703-942-8189  15:08:08      Scam   \n",
       "2               2  +1-901-383-7693  03:36:17    normal   \n",
       "3               3  +1-602-747-4851  10:12:14    normal   \n",
       "4               4  +1-214-359-8191  09:42:00    normal   \n",
       "...           ...              ...       ...       ...   \n",
       "11849       11849  +1-303-953-1271  12:25:05    normal   \n",
       "11850       11850  +1-305-819-5914  00:05:14    normal   \n",
       "11851       11851  +1-212-271-6786  16:37:00    normal   \n",
       "11852       11852  +1-512-678-5368  14:12:23    normal   \n",
       "11853       11853  +1-808-946-5691  10:50:35    normal   \n",
       "\n",
       "                                            Conversation Sentiment Analysis  \n",
       "0                                    What are you doing?            Neutral  \n",
       "1      YOU HAVE WON! As a valued Vodafone customer ou...           Positive  \n",
       "2                                        Ok, Let me see.           Positive  \n",
       "3                               He will, you guys close?            Neutral  \n",
       "4      Oh oh... Den muz change plan liao... Go back h...            Neutral  \n",
       "...                                                  ...                ...  \n",
       "11849  Looks like you found something to do other tha...           Positive  \n",
       "11850                          Ok lor wat time ü finish?           Positive  \n",
       "11851          Aight will do, thanks again for comin out           Positive  \n",
       "11852  Dun b sad.. It's over.. Dun thk abt it already...           Negative  \n",
       "11853  Hi friend, which is best way to avoid missunde...           Positive  \n",
       "\n",
       "[11854 rows x 6 columns]"
      ]
     },
     "execution_count": 6,
     "metadata": {},
     "output_type": "execute_result"
    }
   ],
   "source": [
    "#replacing null values in conversation column if in case there exist any\n",
    "fraud_df[\"Conversation\"] = fraud_df[\"Conversation\"].where((pd.notnull(fraud_df[\"Conversation\"])), '')\n",
    "fraud_df\n"
   ]
  },
  {
   "cell_type": "markdown",
   "metadata": {},
   "source": [
    "Correcting typo errors in the conversation column of the dataset"
   ]
  },
  {
   "cell_type": "code",
   "execution_count": 8,
   "metadata": {},
   "outputs": [
    {
     "name": "stderr",
     "output_type": "stream",
     "text": [
      "100%|██████████| 11854/11854 [1:16:02<00:00,  2.60it/s] "
     ]
    },
    {
     "name": "stdout",
     "output_type": "stream",
     "text": [
      "DataFrame saved to 'corrected_names.csv'\n"
     ]
    },
    {
     "name": "stderr",
     "output_type": "stream",
     "text": [
      "\n"
     ]
    }
   ],
   "source": [
    "from textblob import TextBlob\n",
    "from tqdm import tqdm\n",
    "\n",
    "# Function to correct spelling\n",
    "def correct_spelling_with_textblob(text):\n",
    "    blob = TextBlob(text)\n",
    "    return str(blob.correct())\n",
    "\n",
    "# Enable the tqdm progress bar\n",
    "tqdm.pandas()\n",
    "\n",
    "# Apply correction function to the DataFrame column with progress bar\n",
    "fraud_df['Conversation'] = fraud_df['Conversation'].progress_apply(correct_spelling_with_textblob)\n",
    "\n",
    "fraud_df.to_csv('corrected_names.csv', index=False)\n",
    "\n",
    "print(\"DataFrame saved to 'corrected_names.csv'\")\n",
    "\n"
   ]
  }
 ],
 "metadata": {
  "kernelspec": {
   "display_name": "myenv",
   "language": "python",
   "name": "python3"
  },
  "language_info": {
   "codemirror_mode": {
    "name": "ipython",
    "version": 3
   },
   "file_extension": ".py",
   "mimetype": "text/x-python",
   "name": "python",
   "nbconvert_exporter": "python",
   "pygments_lexer": "ipython3",
   "version": "3.12.7"
  }
 },
 "nbformat": 4,
 "nbformat_minor": 2
}

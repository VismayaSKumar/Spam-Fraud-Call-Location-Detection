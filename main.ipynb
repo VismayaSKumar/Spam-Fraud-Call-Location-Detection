{
 "cells": [
  {
   "cell_type": "markdown",
   "metadata": {},
   "source": [
    "## Data Preprocessing - 2"
   ]
  },
  {
   "cell_type": "markdown",
   "metadata": {},
   "source": [
    "Import statements"
   ]
  },
  {
   "cell_type": "code",
   "execution_count": 190,
   "metadata": {},
   "outputs": [],
   "source": [
    "import numpy as np\n",
    "import pandas as pd\n",
    "import matplotlib.pyplot as plt\n",
    "from sklearn.preprocessing import LabelEncoder"
   ]
  },
  {
   "cell_type": "code",
   "execution_count": 191,
   "metadata": {},
   "outputs": [
    {
     "data": {
      "text/html": [
       "<div>\n",
       "<style scoped>\n",
       "    .dataframe tbody tr th:only-of-type {\n",
       "        vertical-align: middle;\n",
       "    }\n",
       "\n",
       "    .dataframe tbody tr th {\n",
       "        vertical-align: top;\n",
       "    }\n",
       "\n",
       "    .dataframe thead th {\n",
       "        text-align: right;\n",
       "    }\n",
       "</style>\n",
       "<table border=\"1\" class=\"dataframe\">\n",
       "  <thead>\n",
       "    <tr style=\"text-align: right;\">\n",
       "      <th></th>\n",
       "      <th>Unnamed: 0</th>\n",
       "      <th>Caller Number</th>\n",
       "      <th>Call Time</th>\n",
       "      <th>Call Type</th>\n",
       "      <th>Conversation</th>\n",
       "      <th>Sentiment Analysis</th>\n",
       "    </tr>\n",
       "  </thead>\n",
       "  <tbody>\n",
       "    <tr>\n",
       "      <th>0</th>\n",
       "      <td>0</td>\n",
       "      <td>+1-602-484-3039</td>\n",
       "      <td>05:06:43</td>\n",
       "      <td>normal</td>\n",
       "      <td>That are you doing?</td>\n",
       "      <td>Neutral</td>\n",
       "    </tr>\n",
       "    <tr>\n",
       "      <th>1</th>\n",
       "      <td>1</td>\n",
       "      <td>+1-703-942-8189</td>\n",
       "      <td>15:08:08</td>\n",
       "      <td>Scam</td>\n",
       "      <td>YOU HAVE WON! Is a valued Vodafone customer ou...</td>\n",
       "      <td>Positive</td>\n",
       "    </tr>\n",
       "    <tr>\n",
       "      <th>2</th>\n",
       "      <td>2</td>\n",
       "      <td>+1-901-383-7693</td>\n",
       "      <td>03:36:17</td>\n",
       "      <td>normal</td>\n",
       "      <td>K, Met me see.</td>\n",
       "      <td>Positive</td>\n",
       "    </tr>\n",
       "    <tr>\n",
       "      <th>3</th>\n",
       "      <td>3</td>\n",
       "      <td>+1-602-747-4851</td>\n",
       "      <td>10:12:14</td>\n",
       "      <td>normal</td>\n",
       "      <td>He will, you guns close?</td>\n",
       "      <td>Neutral</td>\n",
       "    </tr>\n",
       "    <tr>\n",
       "      <th>4</th>\n",
       "      <td>4</td>\n",
       "      <td>+1-214-359-8191</td>\n",
       "      <td>09:42:00</td>\n",
       "      <td>normal</td>\n",
       "      <td>Oh oh... Men mud change plan liar... To back h...</td>\n",
       "      <td>Neutral</td>\n",
       "    </tr>\n",
       "  </tbody>\n",
       "</table>\n",
       "</div>"
      ],
      "text/plain": [
       "   Unnamed: 0    Caller Number Call Time Call Type  \\\n",
       "0           0  +1-602-484-3039  05:06:43    normal   \n",
       "1           1  +1-703-942-8189  15:08:08      Scam   \n",
       "2           2  +1-901-383-7693  03:36:17    normal   \n",
       "3           3  +1-602-747-4851  10:12:14    normal   \n",
       "4           4  +1-214-359-8191  09:42:00    normal   \n",
       "\n",
       "                                        Conversation Sentiment Analysis  \n",
       "0                                That are you doing?            Neutral  \n",
       "1  YOU HAVE WON! Is a valued Vodafone customer ou...           Positive  \n",
       "2                                     K, Met me see.           Positive  \n",
       "3                           He will, you guns close?            Neutral  \n",
       "4  Oh oh... Men mud change plan liar... To back h...            Neutral  "
      ]
     },
     "execution_count": 191,
     "metadata": {},
     "output_type": "execute_result"
    }
   ],
   "source": [
    "c_fraud_df = pd.read_csv(\"corrected_names.csv\")\n",
    "c_fraud_df.head()"
   ]
  },
  {
   "cell_type": "code",
   "execution_count": 192,
   "metadata": {},
   "outputs": [
    {
     "name": "stdout",
     "output_type": "stream",
     "text": [
      "<class 'pandas.core.frame.DataFrame'>\n",
      "RangeIndex: 11854 entries, 0 to 11853\n",
      "Data columns (total 6 columns):\n",
      " #   Column              Non-Null Count  Dtype \n",
      "---  ------              --------------  ----- \n",
      " 0   Unnamed: 0          11854 non-null  int64 \n",
      " 1   Caller Number       11854 non-null  object\n",
      " 2   Call Time           11854 non-null  object\n",
      " 3   Call Type           11854 non-null  object\n",
      " 4   Conversation        11854 non-null  object\n",
      " 5   Sentiment Analysis  11854 non-null  object\n",
      "dtypes: int64(1), object(5)\n",
      "memory usage: 555.8+ KB\n"
     ]
    }
   ],
   "source": [
    "c_fraud_df.info()"
   ]
  },
  {
   "cell_type": "markdown",
   "metadata": {},
   "source": [
    "Converting Call time to time series data\n"
   ]
  },
  {
   "cell_type": "code",
   "execution_count": 193,
   "metadata": {},
   "outputs": [],
   "source": [
    "c_fraud_df['Call Time'] = pd.to_datetime(c_fraud_df['Call Time'], format='%H:%M:%S')"
   ]
  },
  {
   "cell_type": "code",
   "execution_count": 194,
   "metadata": {},
   "outputs": [
    {
     "data": {
      "text/plain": [
       "Unnamed: 0                     int64\n",
       "Caller Number                 object\n",
       "Call Time             datetime64[ns]\n",
       "Call Type                     object\n",
       "Conversation                  object\n",
       "Sentiment Analysis            object\n",
       "dtype: object"
      ]
     },
     "execution_count": 194,
     "metadata": {},
     "output_type": "execute_result"
    }
   ],
   "source": [
    "c_fraud_df.dtypes"
   ]
  },
  {
   "cell_type": "code",
   "execution_count": 195,
   "metadata": {},
   "outputs": [
    {
     "data": {
      "text/html": [
       "<div>\n",
       "<style scoped>\n",
       "    .dataframe tbody tr th:only-of-type {\n",
       "        vertical-align: middle;\n",
       "    }\n",
       "\n",
       "    .dataframe tbody tr th {\n",
       "        vertical-align: top;\n",
       "    }\n",
       "\n",
       "    .dataframe thead th {\n",
       "        text-align: right;\n",
       "    }\n",
       "</style>\n",
       "<table border=\"1\" class=\"dataframe\">\n",
       "  <thead>\n",
       "    <tr style=\"text-align: right;\">\n",
       "      <th></th>\n",
       "      <th>Unnamed: 0</th>\n",
       "      <th>Caller Number</th>\n",
       "      <th>Call Time</th>\n",
       "      <th>Call Type</th>\n",
       "      <th>Conversation</th>\n",
       "      <th>Sentiment Analysis</th>\n",
       "    </tr>\n",
       "  </thead>\n",
       "  <tbody>\n",
       "    <tr>\n",
       "      <th>count</th>\n",
       "      <td>11854.00000</td>\n",
       "      <td>11854</td>\n",
       "      <td>11854</td>\n",
       "      <td>11854</td>\n",
       "      <td>11854</td>\n",
       "      <td>11854</td>\n",
       "    </tr>\n",
       "    <tr>\n",
       "      <th>unique</th>\n",
       "      <td>NaN</td>\n",
       "      <td>11854</td>\n",
       "      <td>NaN</td>\n",
       "      <td>3</td>\n",
       "      <td>5601</td>\n",
       "      <td>3</td>\n",
       "    </tr>\n",
       "    <tr>\n",
       "      <th>top</th>\n",
       "      <td>NaN</td>\n",
       "      <td>+1-808-946-5691</td>\n",
       "      <td>NaN</td>\n",
       "      <td>normal</td>\n",
       "      <td>Sorry, I'll call later</td>\n",
       "      <td>Neutral</td>\n",
       "    </tr>\n",
       "    <tr>\n",
       "      <th>freq</th>\n",
       "      <td>NaN</td>\n",
       "      <td>1</td>\n",
       "      <td>NaN</td>\n",
       "      <td>10578</td>\n",
       "      <td>50</td>\n",
       "      <td>5958</td>\n",
       "    </tr>\n",
       "    <tr>\n",
       "      <th>mean</th>\n",
       "      <td>5926.50000</td>\n",
       "      <td>NaN</td>\n",
       "      <td>1900-01-01 11:59:08.154546688</td>\n",
       "      <td>NaN</td>\n",
       "      <td>NaN</td>\n",
       "      <td>NaN</td>\n",
       "    </tr>\n",
       "    <tr>\n",
       "      <th>min</th>\n",
       "      <td>0.00000</td>\n",
       "      <td>NaN</td>\n",
       "      <td>1900-01-01 00:00:08</td>\n",
       "      <td>NaN</td>\n",
       "      <td>NaN</td>\n",
       "      <td>NaN</td>\n",
       "    </tr>\n",
       "    <tr>\n",
       "      <th>25%</th>\n",
       "      <td>2963.25000</td>\n",
       "      <td>NaN</td>\n",
       "      <td>1900-01-01 06:01:12.750000128</td>\n",
       "      <td>NaN</td>\n",
       "      <td>NaN</td>\n",
       "      <td>NaN</td>\n",
       "    </tr>\n",
       "    <tr>\n",
       "      <th>50%</th>\n",
       "      <td>5926.50000</td>\n",
       "      <td>NaN</td>\n",
       "      <td>1900-01-01 12:05:05.500000</td>\n",
       "      <td>NaN</td>\n",
       "      <td>NaN</td>\n",
       "      <td>NaN</td>\n",
       "    </tr>\n",
       "    <tr>\n",
       "      <th>75%</th>\n",
       "      <td>8889.75000</td>\n",
       "      <td>NaN</td>\n",
       "      <td>1900-01-01 17:55:05.750000128</td>\n",
       "      <td>NaN</td>\n",
       "      <td>NaN</td>\n",
       "      <td>NaN</td>\n",
       "    </tr>\n",
       "    <tr>\n",
       "      <th>max</th>\n",
       "      <td>11853.00000</td>\n",
       "      <td>NaN</td>\n",
       "      <td>1900-01-01 23:59:59</td>\n",
       "      <td>NaN</td>\n",
       "      <td>NaN</td>\n",
       "      <td>NaN</td>\n",
       "    </tr>\n",
       "    <tr>\n",
       "      <th>std</th>\n",
       "      <td>3422.09938</td>\n",
       "      <td>NaN</td>\n",
       "      <td>NaN</td>\n",
       "      <td>NaN</td>\n",
       "      <td>NaN</td>\n",
       "      <td>NaN</td>\n",
       "    </tr>\n",
       "  </tbody>\n",
       "</table>\n",
       "</div>"
      ],
      "text/plain": [
       "         Unnamed: 0    Caller Number                      Call Time Call Type  \\\n",
       "count   11854.00000            11854                          11854     11854   \n",
       "unique          NaN            11854                            NaN         3   \n",
       "top             NaN  +1-808-946-5691                            NaN    normal   \n",
       "freq            NaN                1                            NaN     10578   \n",
       "mean     5926.50000              NaN  1900-01-01 11:59:08.154546688       NaN   \n",
       "min         0.00000              NaN            1900-01-01 00:00:08       NaN   \n",
       "25%      2963.25000              NaN  1900-01-01 06:01:12.750000128       NaN   \n",
       "50%      5926.50000              NaN     1900-01-01 12:05:05.500000       NaN   \n",
       "75%      8889.75000              NaN  1900-01-01 17:55:05.750000128       NaN   \n",
       "max     11853.00000              NaN            1900-01-01 23:59:59       NaN   \n",
       "std      3422.09938              NaN                            NaN       NaN   \n",
       "\n",
       "                  Conversation Sentiment Analysis  \n",
       "count                    11854              11854  \n",
       "unique                    5601                  3  \n",
       "top     Sorry, I'll call later            Neutral  \n",
       "freq                        50               5958  \n",
       "mean                       NaN                NaN  \n",
       "min                        NaN                NaN  \n",
       "25%                        NaN                NaN  \n",
       "50%                        NaN                NaN  \n",
       "75%                        NaN                NaN  \n",
       "max                        NaN                NaN  \n",
       "std                        NaN                NaN  "
      ]
     },
     "execution_count": 195,
     "metadata": {},
     "output_type": "execute_result"
    }
   ],
   "source": [
    "c_fraud_df.describe(include='all')"
   ]
  },
  {
   "cell_type": "code",
   "execution_count": 196,
   "metadata": {},
   "outputs": [],
   "source": [
    "value_counts_1 = c_fraud_df[\"Call Type\"].value_counts()"
   ]
  },
  {
   "cell_type": "code",
   "execution_count": 197,
   "metadata": {},
   "outputs": [
    {
     "data": {
      "image/png": "[encoded data removed]",
      "text/plain": [
       "<Figure size 640x480 with 1 Axes>"
      ]
     },
     "metadata": {},
     "output_type": "display_data"
    }
   ],
   "source": [
    "value_counts_1.plot(kind='bar', color='skyblue')\n",
    "plt.xlabel('Category')\n",
    "plt.ylabel('Count')\n",
    "plt.title('Value Counts of Categories')\n",
    "plt.show()\n",
    "\n",
    "#It is very much clear from the below graph that there exists a class imbalance. Therefore there is a necessity for Oversampling."
   ]
  },
  {
   "cell_type": "code",
   "execution_count": 198,
   "metadata": {},
   "outputs": [],
   "source": [
    "value_counts_2 = c_fraud_df['Sentiment Analysis'].value_counts()"
   ]
  },
  {
   "cell_type": "code",
   "execution_count": 199,
   "metadata": {},
   "outputs": [
    {
     "data": {
      "image/png": "[encoded data removed]",
      "text/plain": [
       "<Figure size 640x480 with 1 Axes>"
      ]
     },
     "metadata": {},
     "output_type": "display_data"
    }
   ],
   "source": [
    "value_counts_2.plot(kind='bar', color='lightgreen')\n",
    "plt.xlabel('Category')\n",
    "plt.ylabel('Count')\n",
    "plt.title('Value Counts of Categories')\n",
    "plt.show()\n",
    "\n",
    "#From this graph, it is pretty clear that sentiment analysis has less correlation than what expected"
   ]
  },
  {
   "cell_type": "markdown",
   "metadata": {},
   "source": [
    "Label Encoding"
   ]
  },
  {
   "cell_type": "code",
   "execution_count": 200,
   "metadata": {},
   "outputs": [],
   "source": [
    "#Initial encoding just for examining data\n",
    "c_fraud_df.loc[c_fraud_df['Call Type']=='normal','Call Type'] = 0\n",
    "c_fraud_df.loc[c_fraud_df['Call Type']=='Spam','Call Type'] = 1\n",
    "c_fraud_df.loc[c_fraud_df['Call Type']=='Scam','Call Type'] = 2\n",
    "\n",
    "# le = LabelEncoder()\n",
    "# c_fraud_df['Sentiment Analysis'] = le.fit_transform(c_fraud_df[\"Sentiment Analysis\"])\n",
    "# c_fraud_df\n",
    "#LabelEncoding defines an order i.e 2 is high and 1 is low sort of. Therefore use manual encoding procedure\n",
    "\n",
    "c_fraud_df.loc[c_fraud_df['Sentiment Analysis']=='Neutral','Sentiment Analysis'] = 1\n",
    "c_fraud_df.loc[c_fraud_df['Sentiment Analysis']=='Positive','Sentiment Analysis'] = 2\n",
    "c_fraud_df.loc[c_fraud_df['Sentiment Analysis']=='Negative','Sentiment Analysis'] = 0"
   ]
  },
  {
   "cell_type": "markdown",
   "metadata": {},
   "source": [
    "Encoding format For call type:\n",
    "\n",
    "Normal = 0\n",
    "\n",
    "Spam = 1\n",
    "\n",
    "Scam = 2\n"
   ]
  },
  {
   "cell_type": "markdown",
   "metadata": {},
   "source": [
    "Encoding format for Sentiment analysis\n",
    "\n",
    "Negative = 0\n",
    "\n",
    "Neutral = 1\n",
    "\n",
    "Positive = 2"
   ]
  },
  {
   "cell_type": "markdown",
   "metadata": {},
   "source": [
    "Drop unnecessary columns"
   ]
  },
  {
   "cell_type": "code",
   "execution_count": 201,
   "metadata": {},
   "outputs": [],
   "source": [
    "c_fraud_df = c_fraud_df.drop('Unnamed: 0', axis=1)\n"
   ]
  },
  {
   "cell_type": "code",
   "execution_count": 202,
   "metadata": {},
   "outputs": [
    {
     "data": {
      "text/html": [
       "<div>\n",
       "<style scoped>\n",
       "    .dataframe tbody tr th:only-of-type {\n",
       "        vertical-align: middle;\n",
       "    }\n",
       "\n",
       "    .dataframe tbody tr th {\n",
       "        vertical-align: top;\n",
       "    }\n",
       "\n",
       "    .dataframe thead th {\n",
       "        text-align: right;\n",
       "    }\n",
       "</style>\n",
       "<table border=\"1\" class=\"dataframe\">\n",
       "  <thead>\n",
       "    <tr style=\"text-align: right;\">\n",
       "      <th></th>\n",
       "      <th>Caller Number</th>\n",
       "      <th>Call Time</th>\n",
       "      <th>Call Type</th>\n",
       "      <th>Conversation</th>\n",
       "      <th>Sentiment Analysis</th>\n",
       "    </tr>\n",
       "  </thead>\n",
       "  <tbody>\n",
       "    <tr>\n",
       "      <th>0</th>\n",
       "      <td>+1-602-484-3039</td>\n",
       "      <td>1900-01-01 05:06:43</td>\n",
       "      <td>0</td>\n",
       "      <td>That are you doing?</td>\n",
       "      <td>1</td>\n",
       "    </tr>\n",
       "    <tr>\n",
       "      <th>1</th>\n",
       "      <td>+1-703-942-8189</td>\n",
       "      <td>1900-01-01 15:08:08</td>\n",
       "      <td>2</td>\n",
       "      <td>YOU HAVE WON! Is a valued Vodafone customer ou...</td>\n",
       "      <td>2</td>\n",
       "    </tr>\n",
       "    <tr>\n",
       "      <th>2</th>\n",
       "      <td>+1-901-383-7693</td>\n",
       "      <td>1900-01-01 03:36:17</td>\n",
       "      <td>0</td>\n",
       "      <td>K, Met me see.</td>\n",
       "      <td>2</td>\n",
       "    </tr>\n",
       "    <tr>\n",
       "      <th>3</th>\n",
       "      <td>+1-602-747-4851</td>\n",
       "      <td>1900-01-01 10:12:14</td>\n",
       "      <td>0</td>\n",
       "      <td>He will, you guns close?</td>\n",
       "      <td>1</td>\n",
       "    </tr>\n",
       "    <tr>\n",
       "      <th>4</th>\n",
       "      <td>+1-214-359-8191</td>\n",
       "      <td>1900-01-01 09:42:00</td>\n",
       "      <td>0</td>\n",
       "      <td>Oh oh... Men mud change plan liar... To back h...</td>\n",
       "      <td>1</td>\n",
       "    </tr>\n",
       "  </tbody>\n",
       "</table>\n",
       "</div>"
      ],
      "text/plain": [
       "     Caller Number           Call Time Call Type  \\\n",
       "0  +1-602-484-3039 1900-01-01 05:06:43         0   \n",
       "1  +1-703-942-8189 1900-01-01 15:08:08         2   \n",
       "2  +1-901-383-7693 1900-01-01 03:36:17         0   \n",
       "3  +1-602-747-4851 1900-01-01 10:12:14         0   \n",
       "4  +1-214-359-8191 1900-01-01 09:42:00         0   \n",
       "\n",
       "                                        Conversation Sentiment Analysis  \n",
       "0                                That are you doing?                  1  \n",
       "1  YOU HAVE WON! Is a valued Vodafone customer ou...                  2  \n",
       "2                                     K, Met me see.                  2  \n",
       "3                           He will, you guns close?                  1  \n",
       "4  Oh oh... Men mud change plan liar... To back h...                  1  "
      ]
     },
     "execution_count": 202,
     "metadata": {},
     "output_type": "execute_result"
    }
   ],
   "source": [
    "c_fraud_df.head()"
   ]
  },
  {
   "cell_type": "code",
   "execution_count": 203,
   "metadata": {},
   "outputs": [
    {
     "data": {
      "text/html": [
       "<div>\n",
       "<style scoped>\n",
       "    .dataframe tbody tr th:only-of-type {\n",
       "        vertical-align: middle;\n",
       "    }\n",
       "\n",
       "    .dataframe tbody tr th {\n",
       "        vertical-align: top;\n",
       "    }\n",
       "\n",
       "    .dataframe thead th {\n",
       "        text-align: right;\n",
       "    }\n",
       "</style>\n",
       "<table border=\"1\" class=\"dataframe\">\n",
       "  <thead>\n",
       "    <tr style=\"text-align: right;\">\n",
       "      <th></th>\n",
       "      <th>Caller Number</th>\n",
       "      <th>Call Time</th>\n",
       "      <th>Call Type</th>\n",
       "      <th>Conversation</th>\n",
       "      <th>Sentiment Analysis</th>\n",
       "    </tr>\n",
       "  </thead>\n",
       "  <tbody>\n",
       "    <tr>\n",
       "      <th>count</th>\n",
       "      <td>11854</td>\n",
       "      <td>11854</td>\n",
       "      <td>11854.0</td>\n",
       "      <td>11854</td>\n",
       "      <td>11854.0</td>\n",
       "    </tr>\n",
       "    <tr>\n",
       "      <th>unique</th>\n",
       "      <td>11854</td>\n",
       "      <td>NaN</td>\n",
       "      <td>3.0</td>\n",
       "      <td>5601</td>\n",
       "      <td>3.0</td>\n",
       "    </tr>\n",
       "    <tr>\n",
       "      <th>top</th>\n",
       "      <td>+1-808-946-5691</td>\n",
       "      <td>NaN</td>\n",
       "      <td>0.0</td>\n",
       "      <td>Sorry, I'll call later</td>\n",
       "      <td>1.0</td>\n",
       "    </tr>\n",
       "    <tr>\n",
       "      <th>freq</th>\n",
       "      <td>1</td>\n",
       "      <td>NaN</td>\n",
       "      <td>10578.0</td>\n",
       "      <td>50</td>\n",
       "      <td>5958.0</td>\n",
       "    </tr>\n",
       "    <tr>\n",
       "      <th>mean</th>\n",
       "      <td>NaN</td>\n",
       "      <td>1900-01-01 11:59:08.154546688</td>\n",
       "      <td>NaN</td>\n",
       "      <td>NaN</td>\n",
       "      <td>NaN</td>\n",
       "    </tr>\n",
       "    <tr>\n",
       "      <th>min</th>\n",
       "      <td>NaN</td>\n",
       "      <td>1900-01-01 00:00:08</td>\n",
       "      <td>NaN</td>\n",
       "      <td>NaN</td>\n",
       "      <td>NaN</td>\n",
       "    </tr>\n",
       "    <tr>\n",
       "      <th>25%</th>\n",
       "      <td>NaN</td>\n",
       "      <td>1900-01-01 06:01:12.750000128</td>\n",
       "      <td>NaN</td>\n",
       "      <td>NaN</td>\n",
       "      <td>NaN</td>\n",
       "    </tr>\n",
       "    <tr>\n",
       "      <th>50%</th>\n",
       "      <td>NaN</td>\n",
       "      <td>1900-01-01 12:05:05.500000</td>\n",
       "      <td>NaN</td>\n",
       "      <td>NaN</td>\n",
       "      <td>NaN</td>\n",
       "    </tr>\n",
       "    <tr>\n",
       "      <th>75%</th>\n",
       "      <td>NaN</td>\n",
       "      <td>1900-01-01 17:55:05.750000128</td>\n",
       "      <td>NaN</td>\n",
       "      <td>NaN</td>\n",
       "      <td>NaN</td>\n",
       "    </tr>\n",
       "    <tr>\n",
       "      <th>max</th>\n",
       "      <td>NaN</td>\n",
       "      <td>1900-01-01 23:59:59</td>\n",
       "      <td>NaN</td>\n",
       "      <td>NaN</td>\n",
       "      <td>NaN</td>\n",
       "    </tr>\n",
       "  </tbody>\n",
       "</table>\n",
       "</div>"
      ],
      "text/plain": [
       "          Caller Number                      Call Time  Call Type  \\\n",
       "count             11854                          11854    11854.0   \n",
       "unique            11854                            NaN        3.0   \n",
       "top     +1-808-946-5691                            NaN        0.0   \n",
       "freq                  1                            NaN    10578.0   \n",
       "mean                NaN  1900-01-01 11:59:08.154546688        NaN   \n",
       "min                 NaN            1900-01-01 00:00:08        NaN   \n",
       "25%                 NaN  1900-01-01 06:01:12.750000128        NaN   \n",
       "50%                 NaN     1900-01-01 12:05:05.500000        NaN   \n",
       "75%                 NaN  1900-01-01 17:55:05.750000128        NaN   \n",
       "max                 NaN            1900-01-01 23:59:59        NaN   \n",
       "\n",
       "                  Conversation  Sentiment Analysis  \n",
       "count                    11854             11854.0  \n",
       "unique                    5601                 3.0  \n",
       "top     Sorry, I'll call later                 1.0  \n",
       "freq                        50              5958.0  \n",
       "mean                       NaN                 NaN  \n",
       "min                        NaN                 NaN  \n",
       "25%                        NaN                 NaN  \n",
       "50%                        NaN                 NaN  \n",
       "75%                        NaN                 NaN  \n",
       "max                        NaN                 NaN  "
      ]
     },
     "execution_count": 203,
     "metadata": {},
     "output_type": "execute_result"
    }
   ],
   "source": [
    "c_fraud_df.describe(include='all')"
   ]
  },
  {
   "cell_type": "markdown",
   "metadata": {},
   "source": [
    "Plotting Call Time Histogram"
   ]
  },
  {
   "cell_type": "code",
   "execution_count": 204,
   "metadata": {},
   "outputs": [
    {
     "name": "stdout",
     "output_type": "stream",
     "text": [
      "<class 'pandas._libs.tslibs.timestamps.Timestamp'>\n"
     ]
    }
   ],
   "source": [
    "print(type(c_fraud_df['Call Time'].iloc[0]))"
   ]
  },
  {
   "cell_type": "code",
   "execution_count": 205,
   "metadata": {},
   "outputs": [
    {
     "data": {
      "text/html": [
       "<div>\n",
       "<style scoped>\n",
       "    .dataframe tbody tr th:only-of-type {\n",
       "        vertical-align: middle;\n",
       "    }\n",
       "\n",
       "    .dataframe tbody tr th {\n",
       "        vertical-align: top;\n",
       "    }\n",
       "\n",
       "    .dataframe thead th {\n",
       "        text-align: right;\n",
       "    }\n",
       "</style>\n",
       "<table border=\"1\" class=\"dataframe\">\n",
       "  <thead>\n",
       "    <tr style=\"text-align: right;\">\n",
       "      <th></th>\n",
       "      <th>Caller Number</th>\n",
       "      <th>Call Time</th>\n",
       "      <th>Call Type</th>\n",
       "      <th>Conversation</th>\n",
       "      <th>Sentiment Analysis</th>\n",
       "      <th>Hour</th>\n",
       "    </tr>\n",
       "  </thead>\n",
       "  <tbody>\n",
       "    <tr>\n",
       "      <th>0</th>\n",
       "      <td>+1-602-484-3039</td>\n",
       "      <td>1900-01-01 05:06:43</td>\n",
       "      <td>0</td>\n",
       "      <td>That are you doing?</td>\n",
       "      <td>1</td>\n",
       "      <td>5</td>\n",
       "    </tr>\n",
       "    <tr>\n",
       "      <th>1</th>\n",
       "      <td>+1-703-942-8189</td>\n",
       "      <td>1900-01-01 15:08:08</td>\n",
       "      <td>2</td>\n",
       "      <td>YOU HAVE WON! Is a valued Vodafone customer ou...</td>\n",
       "      <td>2</td>\n",
       "      <td>15</td>\n",
       "    </tr>\n",
       "    <tr>\n",
       "      <th>2</th>\n",
       "      <td>+1-901-383-7693</td>\n",
       "      <td>1900-01-01 03:36:17</td>\n",
       "      <td>0</td>\n",
       "      <td>K, Met me see.</td>\n",
       "      <td>2</td>\n",
       "      <td>3</td>\n",
       "    </tr>\n",
       "    <tr>\n",
       "      <th>3</th>\n",
       "      <td>+1-602-747-4851</td>\n",
       "      <td>1900-01-01 10:12:14</td>\n",
       "      <td>0</td>\n",
       "      <td>He will, you guns close?</td>\n",
       "      <td>1</td>\n",
       "      <td>10</td>\n",
       "    </tr>\n",
       "    <tr>\n",
       "      <th>4</th>\n",
       "      <td>+1-214-359-8191</td>\n",
       "      <td>1900-01-01 09:42:00</td>\n",
       "      <td>0</td>\n",
       "      <td>Oh oh... Men mud change plan liar... To back h...</td>\n",
       "      <td>1</td>\n",
       "      <td>9</td>\n",
       "    </tr>\n",
       "  </tbody>\n",
       "</table>\n",
       "</div>"
      ],
      "text/plain": [
       "     Caller Number           Call Time Call Type  \\\n",
       "0  +1-602-484-3039 1900-01-01 05:06:43         0   \n",
       "1  +1-703-942-8189 1900-01-01 15:08:08         2   \n",
       "2  +1-901-383-7693 1900-01-01 03:36:17         0   \n",
       "3  +1-602-747-4851 1900-01-01 10:12:14         0   \n",
       "4  +1-214-359-8191 1900-01-01 09:42:00         0   \n",
       "\n",
       "                                        Conversation Sentiment Analysis  Hour  \n",
       "0                                That are you doing?                  1     5  \n",
       "1  YOU HAVE WON! Is a valued Vodafone customer ou...                  2    15  \n",
       "2                                     K, Met me see.                  2     3  \n",
       "3                           He will, you guns close?                  1    10  \n",
       "4  Oh oh... Men mud change plan liar... To back h...                  1     9  "
      ]
     },
     "execution_count": 205,
     "metadata": {},
     "output_type": "execute_result"
    }
   ],
   "source": [
    "c_fraud_df['Hour'] = c_fraud_df['Call Time'].dt.hour\n",
    "c_fraud_df.head()"
   ]
  },
  {
   "cell_type": "markdown",
   "metadata": {},
   "source": [
    "Checking Correlations and plotting more graphs"
   ]
  },
  {
   "cell_type": "code",
   "execution_count": 206,
   "metadata": {},
   "outputs": [
    {
     "data": {
      "text/plain": [
       "Call Type             1.000000\n",
       "Sentiment Analysis    0.080397\n",
       "Hour                 -0.000198\n",
       "Name: Call Type, dtype: float64"
      ]
     },
     "execution_count": 206,
     "metadata": {},
     "output_type": "execute_result"
    }
   ],
   "source": [
    "columns_to_exclude = ['Caller Number','Call Time','Conversation']\n",
    "correlations = c_fraud_df.drop(columns=columns_to_exclude).corr()\n",
    "correlations['Call Type']"
   ]
  },
  {
   "cell_type": "markdown",
   "metadata": {},
   "source": [
    "Plotting Spam and Scam calls against hour and sentiments to check correlation"
   ]
  },
  {
   "cell_type": "code",
   "execution_count": 212,
   "metadata": {},
   "outputs": [
    {
     "data": {
      "text/html": [
       "<div>\n",
       "<style scoped>\n",
       "    .dataframe tbody tr th:only-of-type {\n",
       "        vertical-align: middle;\n",
       "    }\n",
       "\n",
       "    .dataframe tbody tr th {\n",
       "        vertical-align: top;\n",
       "    }\n",
       "\n",
       "    .dataframe thead th {\n",
       "        text-align: right;\n",
       "    }\n",
       "</style>\n",
       "<table border=\"1\" class=\"dataframe\">\n",
       "  <thead>\n",
       "    <tr style=\"text-align: right;\">\n",
       "      <th></th>\n",
       "      <th>Caller Number</th>\n",
       "      <th>Call Time</th>\n",
       "      <th>Call Type</th>\n",
       "      <th>Conversation</th>\n",
       "      <th>Sentiment Analysis</th>\n",
       "      <th>Hour</th>\n",
       "    </tr>\n",
       "  </thead>\n",
       "  <tbody>\n",
       "    <tr>\n",
       "      <th>8</th>\n",
       "      <td>+1-702-596-9537</td>\n",
       "      <td>1900-01-01 20:10:09</td>\n",
       "      <td>1</td>\n",
       "      <td>Sunshine Vols. To claim or med holiday send a ...</td>\n",
       "      <td>1</td>\n",
       "      <td>20</td>\n",
       "    </tr>\n",
       "    <tr>\n",
       "      <th>13</th>\n",
       "      <td>+1-702-264-2497</td>\n",
       "      <td>1900-01-01 03:12:40</td>\n",
       "      <td>1</td>\n",
       "      <td>More people are digging in your area now. All ...</td>\n",
       "      <td>2</td>\n",
       "      <td>3</td>\n",
       "    </tr>\n",
       "    <tr>\n",
       "      <th>15</th>\n",
       "      <td>+1-214-303-7293</td>\n",
       "      <td>1900-01-01 19:00:44</td>\n",
       "      <td>1</td>\n",
       "      <td>LORD of THE RINGS:RETURN of THE KING in store ...</td>\n",
       "      <td>2</td>\n",
       "      <td>19</td>\n",
       "    </tr>\n",
       "    <tr>\n",
       "      <th>16</th>\n",
       "      <td>+1-702-919-9453</td>\n",
       "      <td>1900-01-01 05:42:08</td>\n",
       "      <td>1</td>\n",
       "      <td>Hello sir, I am speaking from Paytm.  Have you...</td>\n",
       "      <td>1</td>\n",
       "      <td>5</td>\n",
       "    </tr>\n",
       "    <tr>\n",
       "      <th>37</th>\n",
       "      <td>+1-808-818-4365</td>\n",
       "      <td>1900-01-01 10:50:34</td>\n",
       "      <td>1</td>\n",
       "      <td>Today's Offer! Claim your £150 worth of discou...</td>\n",
       "      <td>2</td>\n",
       "      <td>10</td>\n",
       "    </tr>\n",
       "  </tbody>\n",
       "</table>\n",
       "</div>"
      ],
      "text/plain": [
       "      Caller Number           Call Time Call Type  \\\n",
       "8   +1-702-596-9537 1900-01-01 20:10:09         1   \n",
       "13  +1-702-264-2497 1900-01-01 03:12:40         1   \n",
       "15  +1-214-303-7293 1900-01-01 19:00:44         1   \n",
       "16  +1-702-919-9453 1900-01-01 05:42:08         1   \n",
       "37  +1-808-818-4365 1900-01-01 10:50:34         1   \n",
       "\n",
       "                                         Conversation Sentiment Analysis  Hour  \n",
       "8   Sunshine Vols. To claim or med holiday send a ...                  1    20  \n",
       "13  More people are digging in your area now. All ...                  2     3  \n",
       "15  LORD of THE RINGS:RETURN of THE KING in store ...                  2    19  \n",
       "16  Hello sir, I am speaking from Paytm.  Have you...                  1     5  \n",
       "37  Today's Offer! Claim your £150 worth of discou...                  2    10  "
      ]
     },
     "execution_count": 212,
     "metadata": {},
     "output_type": "execute_result"
    }
   ],
   "source": [
    "spam_calls = c_fraud_df[c_fraud_df['Call Type'] == 1]\n",
    "spam_calls.head()"
   ]
  },
  {
   "cell_type": "code",
   "execution_count": 213,
   "metadata": {},
   "outputs": [
    {
     "data": {
      "text/html": [
       "<div>\n",
       "<style scoped>\n",
       "    .dataframe tbody tr th:only-of-type {\n",
       "        vertical-align: middle;\n",
       "    }\n",
       "\n",
       "    .dataframe tbody tr th {\n",
       "        vertical-align: top;\n",
       "    }\n",
       "\n",
       "    .dataframe thead th {\n",
       "        text-align: right;\n",
       "    }\n",
       "</style>\n",
       "<table border=\"1\" class=\"dataframe\">\n",
       "  <thead>\n",
       "    <tr style=\"text-align: right;\">\n",
       "      <th></th>\n",
       "      <th>Caller Number</th>\n",
       "      <th>Call Time</th>\n",
       "      <th>Call Type</th>\n",
       "      <th>Conversation</th>\n",
       "      <th>Sentiment Analysis</th>\n",
       "      <th>Hour</th>\n",
       "    </tr>\n",
       "  </thead>\n",
       "  <tbody>\n",
       "    <tr>\n",
       "      <th>1</th>\n",
       "      <td>+1-703-942-8189</td>\n",
       "      <td>1900-01-01 15:08:08</td>\n",
       "      <td>2</td>\n",
       "      <td>YOU HAVE WON! Is a valued Vodafone customer ou...</td>\n",
       "      <td>2</td>\n",
       "      <td>15</td>\n",
       "    </tr>\n",
       "    <tr>\n",
       "      <th>65</th>\n",
       "      <td>+1-901-433-9219</td>\n",
       "      <td>1900-01-01 14:44:12</td>\n",
       "      <td>2</td>\n",
       "      <td>URGENT! He are trying to contact U. Days draw ...</td>\n",
       "      <td>1</td>\n",
       "      <td>14</td>\n",
       "    </tr>\n",
       "    <tr>\n",
       "      <th>86</th>\n",
       "      <td>+1-404-415-8322</td>\n",
       "      <td>1900-01-01 10:47:00</td>\n",
       "      <td>2</td>\n",
       "      <td>you won a lucky draw for shopping on an amazon...</td>\n",
       "      <td>2</td>\n",
       "      <td>10</td>\n",
       "    </tr>\n",
       "    <tr>\n",
       "      <th>183</th>\n",
       "      <td>+1-303-294-1068</td>\n",
       "      <td>1900-01-01 10:14:22</td>\n",
       "      <td>2</td>\n",
       "      <td>+123 Congratulations - in this week's competit...</td>\n",
       "      <td>1</td>\n",
       "      <td>10</td>\n",
       "    </tr>\n",
       "    <tr>\n",
       "      <th>278</th>\n",
       "      <td>+1-415-425-4889</td>\n",
       "      <td>1900-01-01 23:29:46</td>\n",
       "      <td>2</td>\n",
       "      <td>Your Mobile To. was awarded 2000 INR Bonus Tal...</td>\n",
       "      <td>1</td>\n",
       "      <td>23</td>\n",
       "    </tr>\n",
       "  </tbody>\n",
       "</table>\n",
       "</div>"
      ],
      "text/plain": [
       "       Caller Number           Call Time Call Type  \\\n",
       "1    +1-703-942-8189 1900-01-01 15:08:08         2   \n",
       "65   +1-901-433-9219 1900-01-01 14:44:12         2   \n",
       "86   +1-404-415-8322 1900-01-01 10:47:00         2   \n",
       "183  +1-303-294-1068 1900-01-01 10:14:22         2   \n",
       "278  +1-415-425-4889 1900-01-01 23:29:46         2   \n",
       "\n",
       "                                          Conversation Sentiment Analysis  \\\n",
       "1    YOU HAVE WON! Is a valued Vodafone customer ou...                  2   \n",
       "65   URGENT! He are trying to contact U. Days draw ...                  1   \n",
       "86   you won a lucky draw for shopping on an amazon...                  2   \n",
       "183  +123 Congratulations - in this week's competit...                  1   \n",
       "278  Your Mobile To. was awarded 2000 INR Bonus Tal...                  1   \n",
       "\n",
       "     Hour  \n",
       "1      15  \n",
       "65     14  \n",
       "86     10  \n",
       "183    10  \n",
       "278    23  "
      ]
     },
     "execution_count": 213,
     "metadata": {},
     "output_type": "execute_result"
    }
   ],
   "source": [
    "scam_calls = c_fraud_df[c_fraud_df['Call Type'] == 2]\n",
    "scam_calls.head()"
   ]
  },
  {
   "cell_type": "code",
   "execution_count": 221,
   "metadata": {},
   "outputs": [
    {
     "data": {
      "text/html": [
       "<div>\n",
       "<style scoped>\n",
       "    .dataframe tbody tr th:only-of-type {\n",
       "        vertical-align: middle;\n",
       "    }\n",
       "\n",
       "    .dataframe tbody tr th {\n",
       "        vertical-align: top;\n",
       "    }\n",
       "\n",
       "    .dataframe thead th {\n",
       "        text-align: right;\n",
       "    }\n",
       "</style>\n",
       "<table border=\"1\" class=\"dataframe\">\n",
       "  <thead>\n",
       "    <tr style=\"text-align: right;\">\n",
       "      <th></th>\n",
       "      <th>Caller Number</th>\n",
       "      <th>Call Time</th>\n",
       "      <th>Call Type</th>\n",
       "      <th>Conversation</th>\n",
       "      <th>Sentiment Analysis</th>\n",
       "      <th>Hour</th>\n",
       "    </tr>\n",
       "  </thead>\n",
       "  <tbody>\n",
       "    <tr>\n",
       "      <th>0</th>\n",
       "      <td>+1-404-403-1752</td>\n",
       "      <td>1900-01-01 11:07:05</td>\n",
       "      <td>1</td>\n",
       "      <td>U 447801259231 have a secret admirer who is lo...</td>\n",
       "      <td>0</td>\n",
       "      <td>11</td>\n",
       "    </tr>\n",
       "    <tr>\n",
       "      <th>1</th>\n",
       "      <td>+1-305-750-8919</td>\n",
       "      <td>1900-01-01 11:11:48</td>\n",
       "      <td>1</td>\n",
       "      <td>hello sir, to get a 500 INR voucher for play m...</td>\n",
       "      <td>1</td>\n",
       "      <td>11</td>\n",
       "    </tr>\n",
       "    <tr>\n",
       "      <th>2</th>\n",
       "      <td>+1-602-653-2477</td>\n",
       "      <td>1900-01-01 19:12:30</td>\n",
       "      <td>2</td>\n",
       "      <td>Thank you, winner notified by sums. Good Luck!...</td>\n",
       "      <td>2</td>\n",
       "      <td>19</td>\n",
       "    </tr>\n",
       "    <tr>\n",
       "      <th>3</th>\n",
       "      <td>+1-703-544-7776</td>\n",
       "      <td>1900-01-01 05:15:53</td>\n",
       "      <td>2</td>\n",
       "      <td>Is a valued customer, I am pleased to advise y...</td>\n",
       "      <td>2</td>\n",
       "      <td>5</td>\n",
       "    </tr>\n",
       "    <tr>\n",
       "      <th>4</th>\n",
       "      <td>+1-702-204-4045</td>\n",
       "      <td>1900-01-01 10:01:17</td>\n",
       "      <td>1</td>\n",
       "      <td>Have yourself the stress. Of the person has a ...</td>\n",
       "      <td>1</td>\n",
       "      <td>10</td>\n",
       "    </tr>\n",
       "  </tbody>\n",
       "</table>\n",
       "</div>"
      ],
      "text/plain": [
       "     Caller Number           Call Time Call Type  \\\n",
       "0  +1-404-403-1752 1900-01-01 11:07:05         1   \n",
       "1  +1-305-750-8919 1900-01-01 11:11:48         1   \n",
       "2  +1-602-653-2477 1900-01-01 19:12:30         2   \n",
       "3  +1-703-544-7776 1900-01-01 05:15:53         2   \n",
       "4  +1-702-204-4045 1900-01-01 10:01:17         1   \n",
       "\n",
       "                                        Conversation Sentiment Analysis  Hour  \n",
       "0  U 447801259231 have a secret admirer who is lo...                  0    11  \n",
       "1  hello sir, to get a 500 INR voucher for play m...                  1    11  \n",
       "2  Thank you, winner notified by sums. Good Luck!...                  2    19  \n",
       "3  Is a valued customer, I am pleased to advise y...                  2     5  \n",
       "4  Have yourself the stress. Of the person has a ...                  1    10  "
      ]
     },
     "execution_count": 221,
     "metadata": {},
     "output_type": "execute_result"
    }
   ],
   "source": [
    "combined_df = pd.concat([scam_calls, spam_calls], ignore_index=True)\n",
    "shuffled_df = combined_df.sample(frac=1,random_state=40).reset_index(drop=True)\n",
    "shuffled_df.head()"
   ]
  },
  {
   "cell_type": "code",
   "execution_count": 224,
   "metadata": {},
   "outputs": [
    {
     "data": {
      "text/plain": [
       "Hour\n",
       "0    59\n",
       "1    48\n",
       "2    53\n",
       "3    55\n",
       "4    45\n",
       "Name: count, dtype: int64"
      ]
     },
     "execution_count": 224,
     "metadata": {},
     "output_type": "execute_result"
    }
   ],
   "source": [
    "scam_counts = shuffled_df['Hour'].value_counts().sort_index()\n",
    "scam_counts.head()"
   ]
  },
  {
   "cell_type": "code",
   "execution_count": 229,
   "metadata": {},
   "outputs": [
    {
     "data": {
      "image/png": "[encoded data removed]",
      "text/plain": [
       "<Figure size 1000x600 with 1 Axes>"
      ]
     },
     "metadata": {},
     "output_type": "display_data"
    }
   ],
   "source": [
    "plt.figure(figsize=(10, 6))\n",
    "plt.bar(scam_counts.index, scam_counts.values, color='#FA8072')\n",
    "plt.xlabel('Hour of the Day')\n",
    "plt.ylabel('Number of Scam Calls')\n",
    "plt.title('Number of Scam Calls Received by Hour')\n",
    "plt.xticks(range(0, 25))  # Show all hours from 0 to 24\n",
    "plt.grid(axis='y', linestyle='--', alpha=0.7)\n",
    "plt.show()\n",
    "\n",
    "#This graph clearly shows that hour or time itself has no significance as scam and spam calls are evenly distributed"
   ]
  },
  {
   "cell_type": "code",
   "execution_count": 226,
   "metadata": {},
   "outputs": [
    {
     "data": {
      "text/plain": [
       "Sentiment Analysis\n",
       "0     66\n",
       "1    594\n",
       "2    616\n",
       "Name: count, dtype: int64"
      ]
     },
     "execution_count": 226,
     "metadata": {},
     "output_type": "execute_result"
    }
   ],
   "source": [
    "scam_sentiments = shuffled_df['Sentiment Analysis'].value_counts().sort_index()\n",
    "scam_sentiments.head()"
   ]
  },
  {
   "cell_type": "code",
   "execution_count": null,
   "metadata": {},
   "outputs": [
    {
     "data": {
      "image/png": "[encoded data removed]",
      "text/plain": [
       "<Figure size 640x480 with 1 Axes>"
      ]
     },
     "metadata": {},
     "output_type": "display_data"
    }
   ],
   "source": [
    "plt.bar(scam_sentiments.index, scam_sentiments.values, color='#A67BCA')\n",
    "plt.xlabel('Sentiments')\n",
    "plt.ylabel('Number of Scam Calls')\n",
    "plt.title('Scam call by Sentiment ratio')\n",
    "plt.xticks(ticks=[0, 1, 2], labels=['Negative', 'Neutral', 'Positive']) \n",
    "plt.grid(axis='y', linestyle='--', alpha=0.7)\n",
    "plt.show()\n",
    "\n",
    "#Therefore it can be said that most of the scam calls or spam calls engage in neutral or positive sentiments and don't use negative sentiment\n",
    "#Therefore sentiment analysis row is also loosely correlated"
   ]
  }
 ],
 "metadata": {
  "language_info": {
   "name": "python"
  }
 },
 "nbformat": 4,
 "nbformat_minor": 2
}
